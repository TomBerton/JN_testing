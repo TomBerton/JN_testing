{
 "cells": [
  {
   "cell_type": "code",
   "execution_count": 1,
   "metadata": {},
   "outputs": [
    {
     "name": "stdout",
     "output_type": "stream",
     "text": [
      "3.9.15\n"
     ]
    }
   ],
   "source": [
    "from platform import python_version\n",
    "\n",
    "print(python_version())"
   ]
  },
  {
   "cell_type": "code",
   "execution_count": 2,
   "metadata": {},
   "outputs": [
    {
     "ename": "SyntaxError",
     "evalue": "EOL while scanning string literal (2771583741.py, line 1)",
     "output_type": "error",
     "traceback": [
      "\u001b[0;36m  File \u001b[0;32m\"/var/folders/3f/8c_y2wf506376ylmkn2jrcvwds1jbr/T/ipykernel_34749/2771583741.py\"\u001b[0;36m, line \u001b[0;32m1\u001b[0m\n\u001b[0;31m    print(\"Hello World)\u001b[0m\n\u001b[0m                       ^\u001b[0m\n\u001b[0;31mSyntaxError\u001b[0m\u001b[0;31m:\u001b[0m EOL while scanning string literal\n"
     ]
    }
   ],
   "source": [
    "print(\"Hello World)"
   ]
  },
  {
   "cell_type": "code",
   "execution_count": 4,
   "metadata": {},
   "outputs": [
    {
     "ename": "SyntaxError",
     "evalue": "invalid syntax (602031858.py, line 3)",
     "output_type": "error",
     "traceback": [
      "\u001b[0;36m  File \u001b[0;32m\"/var/folders/3f/8c_y2wf506376ylmkn2jrcvwds1jbr/T/ipykernel_34749/602031858.py\"\u001b[0;36m, line \u001b[0;32m3\u001b[0m\n\u001b[0;31m    11: \"November\",\u001b[0m\n\u001b[0m    ^\u001b[0m\n\u001b[0;31mSyntaxError\u001b[0m\u001b[0;31m:\u001b[0m invalid syntax\n"
     ]
    }
   ],
   "source": [
    "months = {\n",
    "    10: \"October\"\n",
    "    11: \"November\",\n",
    "    12: \"December\"\n",
    "}"
   ]
  },
  {
   "cell_type": "code",
   "execution_count": 3,
   "metadata": {},
   "outputs": [
    {
     "ename": "SyntaxError",
     "evalue": "invalid syntax (3928276515.py, line 6)",
     "output_type": "error",
     "traceback": [
      "\u001b[0;36m  File \u001b[0;32m\"/var/folders/3f/8c_y2wf506376ylmkn2jrcvwds1jbr/T/ipykernel_34749/3928276515.py\"\u001b[0;36m, line \u001b[0;32m6\u001b[0m\n\u001b[0;31m    print(f\"{months[10]} is the tenth month\")\u001b[0m\n\u001b[0m    ^\u001b[0m\n\u001b[0;31mSyntaxError\u001b[0m\u001b[0;31m:\u001b[0m invalid syntax\n"
     ]
    }
   ],
   "source": [
    "months = {\n",
    "    10: \"October\",\n",
    "    11: \"November\",\n",
    "    12: \"December\"\n",
    "\n",
    "print(f\"{months[10]} is the tenth month\")"
   ]
  },
  {
   "cell_type": "markdown",
   "metadata": {},
   "source": [
    "### Remove Prefixes and Suffixes"
   ]
  },
  {
   "cell_type": "code",
   "execution_count": 2,
   "metadata": {},
   "outputs": [
    {
     "name": "stdout",
     "output_type": "stream",
     "text": [
      "apple banana kiwi#456\n"
     ]
    }
   ],
   "source": [
    "my_str = '$123apple banana kiwi#456'\n",
    "\n",
    "without_prefix = my_str.removeprefix('$123')\n",
    "print(without_prefix)  # 👉️ 'apple banana kiwi#456'"
   ]
  },
  {
   "cell_type": "code",
   "execution_count": 3,
   "metadata": {},
   "outputs": [
    {
     "name": "stdout",
     "output_type": "stream",
     "text": [
      "$123apple banana kiwi\n"
     ]
    }
   ],
   "source": [
    "without_suffix = my_str.removesuffix('#456')\n",
    "print(without_suffix)  # 👉️ '$123apple banana kiwi'"
   ]
  },
  {
   "cell_type": "code",
   "execution_count": 4,
   "metadata": {},
   "outputs": [
    {
     "name": "stdout",
     "output_type": "stream",
     "text": [
      "apple banana kiwi\n"
     ]
    }
   ],
   "source": [
    "without_prefix_and_suffix = my_str.removeprefix('$123').removesuffix('#456')\n",
    "\n",
    "# 👇️ 'apple banana kiwi'\n",
    "print(without_prefix_and_suffix)"
   ]
  },
  {
   "cell_type": "markdown",
   "metadata": {},
   "source": [
    "### Math (LCM)"
   ]
  },
  {
   "cell_type": "code",
   "execution_count": 5,
   "metadata": {},
   "outputs": [],
   "source": [
    "import math"
   ]
  },
  {
   "cell_type": "code",
   "execution_count": 6,
   "metadata": {},
   "outputs": [
    {
     "data": {
      "text/plain": [
       "7"
      ]
     },
     "execution_count": 6,
     "metadata": {},
     "output_type": "execute_result"
    }
   ],
   "source": [
    "math.gcd(49,14)"
   ]
  },
  {
   "cell_type": "code",
   "execution_count": 7,
   "metadata": {},
   "outputs": [
    {
     "data": {
      "text/plain": [
       "98"
      ]
     },
     "execution_count": 7,
     "metadata": {},
     "output_type": "execute_result"
    }
   ],
   "source": [
    "math.lcm(49,14)"
   ]
  },
  {
   "cell_type": "markdown",
   "metadata": {},
   "source": [
    "### Time Zones"
   ]
  },
  {
   "cell_type": "code",
   "execution_count": 8,
   "metadata": {},
   "outputs": [],
   "source": [
    "from zoneinfo import ZoneInfo\n",
    "from datetime import datetime, timedelta"
   ]
  },
  {
   "cell_type": "code",
   "execution_count": 9,
   "metadata": {},
   "outputs": [
    {
     "name": "stdout",
     "output_type": "stream",
     "text": [
      "2022-10-21 10:00:00-05:00\n",
      "CDT\n"
     ]
    }
   ],
   "source": [
    "dt = datetime(2022, 10, 21, 10, tzinfo = ZoneInfo(\"America/Chicago\"))\n",
    "print(dt)\n",
    "print(dt.tzname())"
   ]
  },
  {
   "cell_type": "code",
   "execution_count": 10,
   "metadata": {},
   "outputs": [],
   "source": [
    "import zoneinfo"
   ]
  },
  {
   "cell_type": "code",
   "execution_count": 11,
   "metadata": {},
   "outputs": [
    {
     "name": "stdout",
     "output_type": "stream",
     "text": [
      "{'Africa/Asmara', 'America/Montserrat', 'Chile/EasterIsland', 'Pacific/Guadalcanal', 'Etc/GMT-9', 'Indian/Chagos', 'Europe/Mariehamn', 'Australia/Perth', 'America/Menominee', 'Indian/Antananarivo', 'Etc/GMT+4', 'Asia/Gaza', 'Europe/Warsaw', 'NZ-CHAT', 'Africa/Lubumbashi', 'America/Mexico_City', 'Asia/Macau', 'Asia/Omsk', 'Pacific/Pitcairn', 'America/Antigua', 'EST5EDT', 'Pacific/Yap', 'Pacific/Galapagos', 'America/Bahia_Banderas', 'Asia/Dili', 'Asia/Amman', 'Asia/Kuching', 'Etc/GMT-8', 'US/Arizona', 'Asia/Harbin', 'Asia/Novosibirsk', 'America/Paramaribo', 'Etc/GMT+7', 'Asia/Irkutsk', 'Europe/Amsterdam', 'America/Caracas', 'Atlantic/Reykjavik', 'Pacific/Marquesas', 'Etc/GMT+6', 'Asia/Chongqing', 'US/Pacific', 'America/Argentina/Salta', 'Europe/Sarajevo', 'Asia/Manila', 'Africa/Djibouti', 'Asia/Ashkhabad', 'Libya', 'Asia/Baku', 'America/Lima', 'America/Port_of_Spain', 'America/Kralendijk', 'CET', 'Europe/Gibraltar', 'Africa/El_Aaiun', 'America/Hermosillo', 'Australia/West', 'Canada/Eastern', 'Europe/Simferopol', 'Pacific/Nauru', 'Mexico/BajaNorte', 'Asia/Riyadh', 'Africa/Ouagadougou', 'America/Argentina/Buenos_Aires', 'Antarctica/Davis', 'Indian/Mahe', 'Asia/Choibalsan', 'Africa/Dakar', 'Pacific/Efate', 'America/North_Dakota/Beulah', 'Africa/Lusaka', 'America/Matamoros', 'Asia/Bahrain', 'Atlantic/Madeira', 'America/Santarem', 'CST6CDT', 'Pacific/Noumea', 'Etc/GMT0', 'Europe/Kiev', 'Asia/Istanbul', 'Pacific/Fiji', 'Australia/Adelaide', 'Europe/Ulyanovsk', 'Antarctica/McMurdo', 'Asia/Tbilisi', 'Europe/Vienna', 'America/Atikokan', 'Australia/Broken_Hill', 'Africa/Addis_Ababa', 'Asia/Damascus', 'Asia/Magadan', 'Asia/Urumqi', 'Pacific/Funafuti', 'Europe/Uzhgorod', 'America/Edmonton', 'America/Denver', 'Asia/Kamchatka', 'Africa/Maputo', 'GMT+0', 'Asia/Shanghai', 'Pacific/Saipan', 'America/Tortola', 'UCT', 'America/Cuiaba', 'Kwajalein', 'Europe/Zagreb', 'Australia/Eucla', 'America/Chihuahua', 'Africa/Cairo', 'America/Cayman', 'Cuba', 'Asia/Tehran', 'Indian/Cocos', 'Asia/Jerusalem', 'Asia/Qostanay', 'America/Nipigon', 'America/Dominica', 'Asia/Vientiane', 'Africa/Abidjan', 'Africa/Tunis', 'HST', 'Asia/Dhaka', 'Etc/GMT-4', 'Pacific/Gambier', 'Europe/Vilnius', 'Europe/Vaduz', 'Pacific/Palau', 'America/Thunder_Bay', 'Asia/Oral', 'MET', 'Pacific/Wake', 'America/Argentina/Rio_Gallegos', 'Asia/Chita', 'America/Jujuy', 'Asia/Krasnoyarsk', 'America/La_Paz', 'America/Los_Angeles', 'Africa/Luanda', 'Asia/Qatar', 'Europe/Tirane', 'America/Boa_Vista', 'America/Montevideo', 'America/Shiprock', 'America/Guadeloupe', 'Pacific/Chuuk', 'America/Santiago', 'America/Costa_Rica', 'Australia/Hobart', 'Etc/GMT-10', 'Africa/Niamey', 'America/St_Barthelemy', 'Brazil/West', 'ROC', 'America/Fort_Wayne', 'Asia/Colombo', 'Asia/Makassar', 'America/Whitehorse', 'Asia/Vladivostok', 'Pacific/Ponape', 'Africa/Lagos', 'America/Argentina/San_Juan', 'America/Halifax', 'Asia/Dushanbe', 'Portugal', 'Asia/Atyrau', 'Pacific/Chatham', 'Japan', 'Atlantic/Stanley', 'Europe/Oslo', 'Turkey', 'Atlantic/Bermuda', 'America/Juneau', 'Europe/Belgrade', 'Etc/GMT+8', 'America/Tijuana', 'America/Port-au-Prince', 'Pacific/Honolulu', 'America/Rainy_River', 'Asia/Almaty', 'Antarctica/Macquarie', 'build/etc/localtime', 'Africa/Algiers', 'Europe/Kaliningrad', 'Asia/Hebron', 'Africa/Douala', 'America/St_Vincent', 'Africa/Tripoli', 'America/Resolute', 'America/Indiana/Vincennes', 'Hongkong', 'America/Danmarkshavn', 'America/Maceio', 'Africa/Harare', 'America/Mazatlan', 'Europe/Volgograd', 'Africa/Nairobi', 'Iceland', 'Asia/Katmandu', 'Canada/Pacific', 'Africa/Windhoek', 'Egypt', 'Europe/Busingen', 'US/Mountain', 'Africa/Banjul', 'Antarctica/Vostok', 'Europe/Tallinn', 'Eire', 'PST8PDT', 'US/Alaska', 'Europe/Luxembourg', 'GMT0', 'America/New_York', 'Asia/Srednekolymsk', 'America/Creston', 'America/Guayaquil', 'America/Argentina/La_Rioja', 'Factory', 'Asia/Calcutta', 'Atlantic/Faroe', 'America/North_Dakota/New_Salem', 'Europe/Prague', 'Asia/Aqtau', 'Jamaica', 'US/Indiana-Starke', 'Africa/Casablanca', 'Asia/Pyongyang', 'Europe/Madrid', 'GB-Eire', 'Asia/Tokyo', 'America/Curacao', 'Asia/Tomsk', 'Etc/GMT+9', 'America/Porto_Velho', 'Europe/Dublin', 'Africa/Bamako', 'US/Samoa', 'Brazil/East', 'Asia/Taipei', 'Europe/Guernsey', 'Africa/Libreville', 'America/Cordoba', 'Africa/Kinshasa', 'Atlantic/Jan_Mayen', 'America/Argentina/Ushuaia', 'Europe/Malta', 'Asia/Brunei', 'Navajo', 'Pacific/Guam', 'Asia/Tashkent', 'Asia/Rangoon', 'Asia/Chungking', 'America/Catamarca', 'America/Indiana/Knox', 'Atlantic/South_Georgia', 'America/Miquelon', 'GB', 'PRC', 'Asia/Kolkata', 'Europe/Podgorica', 'Etc/GMT-14', 'Asia/Saigon', 'WET', 'Europe/Istanbul', 'Asia/Macao', 'America/Moncton', 'W-SU', 'America/Indiana/Indianapolis', 'America/Indianapolis', 'Etc/GMT-12', 'Etc/UTC', 'US/East-Indiana', 'Europe/Jersey', 'Pacific/Easter', 'America/Vancouver', 'America/Havana', 'Australia/Lord_Howe', 'America/Sitka', 'America/Kentucky/Monticello', 'America/Managua', 'Asia/Barnaul', 'Asia/Ust-Nera', 'Australia/South', 'Asia/Kuala_Lumpur', 'America/Indiana/Winamac', 'America/Santa_Isabel', 'Etc/GMT-13', 'Asia/Ulaanbaatar', 'Greenwich', 'Europe/San_Marino', 'Pacific/Apia', 'Etc/GMT+10', 'Canada/Atlantic', 'Indian/Reunion', 'Asia/Seoul', 'Asia/Phnom_Penh', 'America/Montreal', 'Etc/GMT-5', 'Europe/Kirov', 'Pacific/Kiritimati', 'Europe/Brussels', 'Australia/North', 'Etc/GMT-2', 'America/Coral_Harbour', 'America/Iqaluit', 'Europe/Athens', 'America/Ojinaga', 'Asia/Ulan_Bator', 'America/Argentina/Tucuman', 'Pacific/Tahiti', 'US/Michigan', 'America/St_Lucia', 'America/Ensenada', 'Canada/Central', 'Africa/Bujumbura', 'Africa/Lome', 'Africa/Bissau', 'Asia/Ashgabat', 'Pacific/Wallis', 'America/North_Dakota/Center', 'America/Cambridge_Bay', 'America/Rosario', 'America/Dawson', 'Africa/Accra', 'Asia/Nicosia', 'Etc/GMT-11', 'Asia/Singapore', 'Etc/GMT+0', 'America/Adak', 'America/Indiana/Petersburg', 'Australia/Canberra', 'Etc/GMT', 'Asia/Baghdad', 'Pacific/Port_Moresby', 'Atlantic/Canary', 'Europe/Skopje', 'America/Panama', 'Pacific/Samoa', 'UTC', 'America/Araguaina', 'Etc/GMT-3', 'Pacific/Kwajalein', 'Africa/Bangui', 'Asia/Pontianak', 'America/Godthab', 'America/St_Kitts', 'Africa/Monrovia', 'America/Punta_Arenas', 'Pacific/Enderbury', 'America/Indiana/Tell_City', 'Antarctica/South_Pole', 'NZ', 'Asia/Thimbu', 'Europe/Budapest', 'Asia/Bishkek', 'Africa/Malabo', 'America/Grand_Turk', 'Europe/Nicosia', 'Etc/GMT-0', 'America/Inuvik', 'Asia/Novokuznetsk', 'America/Atka', 'Antarctica/Rothera', 'Europe/Isle_of_Man', 'America/Argentina/Cordoba', 'Europe/Belfast', 'America/Barbados', 'MST', 'Australia/Victoria', 'Zulu', 'America/Nassau', 'Atlantic/St_Helena', 'Africa/Nouakchott', 'Europe/Copenhagen', 'MST7MDT', 'America/Porto_Acre', 'America/Louisville', 'Africa/Gaborone', 'America/Anguilla', 'Europe/Bratislava', 'America/Rio_Branco', 'Asia/Kathmandu', 'Asia/Jayapura', 'Atlantic/Faeroe', 'Asia/Kuwait', 'Asia/Famagusta', 'Etc/GMT-7', 'Pacific/Truk', 'Asia/Jakarta', 'America/Indiana/Vevay', 'Africa/Mbabane', 'America/Metlakatla', 'Europe/Zurich', 'America/Boise', 'Africa/Mogadishu', 'Africa/Brazzaville', 'America/Nuuk', 'Asia/Kabul', 'Atlantic/Cape_Verde', 'America/Indiana/Marengo', 'Indian/Kerguelen', 'America/Marigot', 'Asia/Qyzylorda', 'Pacific/Johnston', 'Mexico/BajaSur', 'America/Rankin_Inlet', 'Pacific/Bougainville', 'Africa/Kigali', 'Antarctica/Mawson', 'America/Grenada', 'Africa/Conakry', 'Antarctica/Palmer', 'Asia/Ujung_Pandang', 'America/Fort_Nelson', 'America/Argentina/Jujuy', 'Etc/GMT+1', 'Europe/Saratov', 'Canada/Saskatchewan', 'America/Cayenne', 'Europe/Riga', 'America/Swift_Current', 'Indian/Christmas', 'America/Martinique', 'Asia/Hovd', 'America/Chicago', 'America/Belize', 'America/Jamaica', 'Europe/Monaco', 'America/St_Johns', 'America/Yakutat', 'Africa/Khartoum', 'Asia/Yakutsk', 'Indian/Comoro', 'Asia/Ho_Chi_Minh', 'Etc/Greenwich', 'EST', 'Indian/Maldives', 'America/Guatemala', 'America/Anchorage', 'Antarctica/Troll', 'Africa/Freetown', 'Poland', 'Etc/GMT+11', 'America/Guyana', 'Pacific/Tarawa', 'Australia/Tasmania', 'Etc/GMT-6', 'Brazil/DeNoronha', 'America/Bahia', 'America/Recife', 'Pacific/Niue', 'Australia/Lindeman', 'Africa/Asmera', 'Pacific/Midway', 'Asia/Yangon', 'Europe/Stockholm', 'Pacific/Tongatapu', 'Australia/ACT', 'Europe/Moscow', 'America/Santo_Domingo', 'America/Merida', 'America/Knox_IN', 'Europe/London', 'Canada/Newfoundland', 'Asia/Tel_Aviv', 'US/Eastern', 'Asia/Karachi', 'America/Lower_Princes', 'Asia/Dubai', 'Etc/GMT+5', 'Australia/NSW', 'America/Manaus', 'Arctic/Longyearbyen', 'Africa/Blantyre', 'America/St_Thomas', 'Asia/Muscat', 'Pacific/Kosrae', 'Europe/Tiraspol', 'America/Detroit', 'America/Glace_Bay', 'Pacific/Norfolk', 'Indian/Mayotte', 'Etc/GMT+3', 'America/Noronha', 'America/Belem', 'Etc/GMT+2', 'Asia/Yekaterinburg', 'Europe/Ljubljana', 'Mexico/General', 'Africa/Sao_Tome', 'Europe/Samara', 'Etc/GMT-1', 'Australia/Melbourne', 'Pacific/Majuro', 'Asia/Anadyr', 'Europe/Paris', 'Asia/Hong_Kong', 'America/Argentina/Mendoza', 'Europe/Chisinau', 'Europe/Minsk', 'America/Kentucky/Louisville', 'EET', 'Africa/Porto-Novo', 'Pacific/Kanton', 'Europe/Sofia', 'GMT', 'Asia/Aqtobe', 'America/Phoenix', 'America/Nome', 'America/Regina', 'Asia/Samarkand', 'Africa/Maseru', 'Iran', 'Europe/Berlin', 'Israel', 'America/Asuncion', 'America/Buenos_Aires', 'Canada/Mountain', 'Europe/Andorra', 'Africa/Ndjamena', 'Asia/Thimphu', 'America/Tegucigalpa', 'Singapore', 'US/Central', 'America/Monterrey', 'Etc/Universal', 'GMT-0', 'Australia/Brisbane', 'America/Campo_Grande', 'Etc/GMT+12', 'Africa/Timbuktu', 'Asia/Bangkok', 'Pacific/Pohnpei', 'Universal', 'America/Winnipeg', 'US/Hawaii', 'America/Fortaleza', 'Etc/Zulu', 'Africa/Dar_es_Salaam', 'Australia/Yancowinna', 'Pacific/Pago_Pago', 'Asia/Beirut', 'America/Sao_Paulo', 'Asia/Dacca', 'Antarctica/Casey', 'Australia/Queensland', 'Asia/Aden', 'Australia/Sydney', 'Europe/Lisbon', 'Europe/Vatican', 'Africa/Juba', 'Brazil/Acre', 'Antarctica/Syowa', 'Europe/Astrakhan', 'Pacific/Rarotonga', 'America/El_Salvador', 'Indian/Mauritius', 'America/Toronto', 'Europe/Rome', 'America/Blanc-Sablon', 'Atlantic/Azores', 'Antarctica/DumontDUrville', 'Asia/Sakhalin', 'Africa/Kampala', 'America/Bogota', 'Europe/Bucharest', 'Asia/Khandyga', 'America/Dawson_Creek', 'America/Mendoza', 'Australia/LHI', 'America/Pangnirtung', 'Asia/Kashgar', 'Asia/Yerevan', 'US/Aleutian', 'Africa/Ceuta', 'Canada/Yukon', 'Pacific/Auckland', 'America/Yellowknife', 'America/Argentina/Catamarca', 'Etc/UCT', 'Africa/Johannesburg', 'America/Scoresbysund', 'America/Cancun', 'Europe/Zaporozhye', 'Chile/Continental', 'America/Virgin', 'America/Argentina/San_Luis', 'America/Puerto_Rico', 'Europe/Helsinki', 'America/Eirunepe', 'ROK', 'Australia/Darwin', 'America/Aruba', 'America/Thule', 'Pacific/Fakaofo', 'America/Argentina/ComodRivadavia', 'Australia/Currie', 'America/Goose_Bay'}\n"
     ]
    }
   ],
   "source": [
    "world_tz = zoneinfo.available_timezones()\n",
    "print(world_tz)"
   ]
  },
  {
   "cell_type": "markdown",
   "metadata": {},
   "source": [
    "### GraphLib"
   ]
  },
  {
   "cell_type": "code",
   "execution_count": 17,
   "metadata": {},
   "outputs": [],
   "source": [
    "from graphlib import TopologicalSorter"
   ]
  },
  {
   "cell_type": "code",
   "execution_count": 18,
   "metadata": {},
   "outputs": [
    {
     "data": {
      "text/plain": [
       "('A', 'C', 'B', 'D')"
      ]
     },
     "execution_count": 18,
     "metadata": {},
     "output_type": "execute_result"
    }
   ],
   "source": [
    "graph = {\"D\": {\"B\", \"C\"}, \"C\": {\"A\"}, \"B\": {\"A\"}}\n",
    "ts = TopologicalSorter(graph)\n",
    "tuple(ts.static_order())"
   ]
  },
  {
   "cell_type": "code",
   "execution_count": null,
   "metadata": {},
   "outputs": [],
   "source": []
  }
 ],
 "metadata": {
  "kernelspec": {
   "display_name": "WorkDev",
   "language": "python",
   "name": "workdev"
  },
  "language_info": {
   "codemirror_mode": {
    "name": "ipython",
    "version": 3
   },
   "file_extension": ".py",
   "mimetype": "text/x-python",
   "name": "python",
   "nbconvert_exporter": "python",
   "pygments_lexer": "ipython3",
   "version": "3.9.15"
  }
 },
 "nbformat": 4,
 "nbformat_minor": 4
}
