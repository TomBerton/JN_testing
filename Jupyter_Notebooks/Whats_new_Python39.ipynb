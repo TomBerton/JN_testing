{
 "cells": [
  {
   "cell_type": "code",
   "execution_count": 1,
   "metadata": {},
   "outputs": [
    {
     "name": "stdout",
     "output_type": "stream",
     "text": [
      "3.10.4\n"
     ]
    }
   ],
   "source": [
    "from platform import python_version\n",
    "\n",
    "print(python_version())"
   ]
  },
  {
   "cell_type": "code",
   "execution_count": 2,
   "metadata": {},
   "outputs": [
    {
     "name": "stdout",
     "output_type": "stream",
     "text": [
      "Hello World\n"
     ]
    }
   ],
   "source": [
    "print(\"Hello World\")"
   ]
  },
  {
   "cell_type": "code",
   "execution_count": 3,
   "metadata": {},
   "outputs": [],
   "source": [
    "months = {\n",
    "    10: \"October\",\n",
    "    11: \"November\",\n",
    "    12: \"December\"\n",
    "}"
   ]
  },
  {
   "cell_type": "code",
   "execution_count": 9,
   "metadata": {},
   "outputs": [
    {
     "name": "stdout",
     "output_type": "stream",
     "text": [
      "October is the tenth month\n"
     ]
    }
   ],
   "source": [
    "months = {\n",
    "    10: \"October\",\n",
    "    11: \"November\",\n",
    "    12: \"December\"\n",
    "}\n",
    "\n",
    "print(f\"{months[10]} is the tenth month\")"
   ]
  },
  {
   "cell_type": "markdown",
   "metadata": {},
   "source": [
    "### Remove Prefixes and Suffixes"
   ]
  },
  {
   "cell_type": "code",
   "execution_count": 10,
   "metadata": {},
   "outputs": [
    {
     "name": "stdout",
     "output_type": "stream",
     "text": [
      "apple banana kiwi#456\n"
     ]
    }
   ],
   "source": [
    "my_str = '$123apple banana kiwi#456'\n",
    "\n",
    "without_prefix = my_str.removeprefix('$123')\n",
    "print(without_prefix)  # 👉️ 'apple banana kiwi#456'"
   ]
  },
  {
   "cell_type": "code",
   "execution_count": 11,
   "metadata": {},
   "outputs": [
    {
     "name": "stdout",
     "output_type": "stream",
     "text": [
      "$123apple banana kiwi\n"
     ]
    }
   ],
   "source": [
    "without_suffix = my_str.removesuffix('#456')\n",
    "print(without_suffix)  # 👉️ '$123apple banana kiwi'"
   ]
  },
  {
   "cell_type": "code",
   "execution_count": 12,
   "metadata": {},
   "outputs": [
    {
     "name": "stdout",
     "output_type": "stream",
     "text": [
      "apple banana kiwi\n"
     ]
    }
   ],
   "source": [
    "without_prefix_and_suffix = my_str.removeprefix('$123').removesuffix('#456')\n",
    "\n",
    "# 👇️ 'apple banana kiwi'\n",
    "print(without_prefix_and_suffix)"
   ]
  },
  {
   "cell_type": "markdown",
   "metadata": {},
   "source": [
    "### Math (LCM)"
   ]
  },
  {
   "cell_type": "code",
   "execution_count": 13,
   "metadata": {},
   "outputs": [],
   "source": [
    "import math"
   ]
  },
  {
   "cell_type": "code",
   "execution_count": 14,
   "metadata": {},
   "outputs": [
    {
     "data": {
      "text/plain": [
       "7"
      ]
     },
     "execution_count": 14,
     "metadata": {},
     "output_type": "execute_result"
    }
   ],
   "source": [
    "math.gcd(49,14)"
   ]
  },
  {
   "cell_type": "code",
   "execution_count": 15,
   "metadata": {},
   "outputs": [
    {
     "data": {
      "text/plain": [
       "98"
      ]
     },
     "execution_count": 15,
     "metadata": {},
     "output_type": "execute_result"
    }
   ],
   "source": [
    "math.lcm(49,14)"
   ]
  },
  {
   "cell_type": "markdown",
   "metadata": {},
   "source": [
    "### Time Zones"
   ]
  },
  {
   "cell_type": "code",
   "execution_count": 16,
   "metadata": {},
   "outputs": [],
   "source": [
    "from zoneinfo import ZoneInfo\n",
    "from datetime import datetime, timedelta"
   ]
  },
  {
   "cell_type": "code",
   "execution_count": 17,
   "metadata": {},
   "outputs": [
    {
     "name": "stdout",
     "output_type": "stream",
     "text": [
      "2022-10-21 10:00:00-05:00\n",
      "CDT\n"
     ]
    }
   ],
   "source": [
    "dt = datetime(2022, 10, 21, 10, tzinfo = ZoneInfo(\"America/Chicago\"))\n",
    "print(dt)\n",
    "print(dt.tzname())"
   ]
  },
  {
   "cell_type": "code",
   "execution_count": 18,
   "metadata": {},
   "outputs": [],
   "source": [
    "import zoneinfo"
   ]
  },
  {
   "cell_type": "code",
   "execution_count": 19,
   "metadata": {},
   "outputs": [
    {
     "name": "stdout",
     "output_type": "stream",
     "text": [
      "{'Etc/GMT-14', 'Asia/Dubai', 'Europe/Athens', 'Indian/Mayotte', 'Africa/El_Aaiun', 'Asia/Vientiane', 'US/Pacific', 'Asia/Jayapura', 'America/Santiago', 'America/Indiana/Vevay', 'Atlantic/St_Helena', 'Asia/Vladivostok', 'Asia/Ust-Nera', 'Africa/Dakar', 'Europe/Samara', 'Pacific/Enderbury', 'America/Toronto', 'America/Santa_Isabel', 'America/Asuncion', 'Europe/Zurich', 'America/Halifax', 'Asia/Baku', 'America/Danmarkshavn', 'Asia/Tokyo', 'Pacific/Midway', 'Asia/Bangkok', 'Europe/Tallinn', 'Pacific/Norfolk', 'America/Ojinaga', 'Antarctica/Troll', 'Antarctica/DumontDUrville', 'Asia/Bishkek', 'Asia/Khandyga', 'Pacific/Chatham', 'Europe/Sofia', 'America/Cayman', 'Europe/Brussels', 'America/Indiana/Tell_City', 'ROC', 'Etc/GMT-3', 'Europe/Uzhgorod', 'Europe/Monaco', 'Asia/Dacca', 'Europe/Volgograd', 'Atlantic/Reykjavik', 'Asia/Damascus', 'Africa/Kampala', 'America/Grenada', 'America/Campo_Grande', 'PRC', 'Europe/Zaporozhye', 'America/Moncton', 'Pacific/Auckland', 'America/Havana', 'US/Michigan', 'Asia/Srednekolymsk', 'America/Swift_Current', 'Asia/Katmandu', 'Australia/Victoria', 'Universal', 'America/Tegucigalpa', 'America/Yellowknife', 'Australia/Melbourne', 'Canada/Newfoundland', 'Asia/Famagusta', 'America/Cayenne', 'Africa/Gaborone', 'Factory', 'Pacific/Honolulu', 'Africa/Asmara', 'America/Nipigon', 'Africa/Lome', 'build/etc/localtime', 'Asia/Kolkata', 'Australia/Eucla', 'Indian/Kerguelen', 'Asia/Hebron', 'Asia/Chungking', 'Europe/Paris', 'Europe/Malta', 'Africa/Blantyre', 'Pacific/Wallis', 'UTC', 'Pacific/Kwajalein', 'Pacific/Wake', 'America/Guadeloupe', 'Asia/Qatar', 'Asia/Tehran', 'America/Argentina/Buenos_Aires', 'America/Manaus', 'America/Shiprock', 'Antarctica/Casey', 'America/Mexico_City', 'America/Scoresbysund', 'Etc/GMT-12', 'NZ', 'Libya', 'Etc/GMT+10', 'Asia/Macau', 'Africa/Brazzaville', 'Africa/Tunis', 'America/Menominee', 'Asia/Aqtobe', 'Europe/Kiev', 'Europe/London', 'Africa/Kinshasa', 'Etc/GMT-8', 'NZ-CHAT', 'Africa/Algiers', 'Africa/Juba', 'Israel', 'Indian/Mauritius', 'Pacific/Rarotonga', 'US/Arizona', 'America/Anguilla', 'Europe/Rome', 'Antarctica/Macquarie', 'Eire', 'Asia/Yangon', 'Asia/Jerusalem', 'America/Glace_Bay', 'Etc/GMT0', 'Africa/Asmera', 'Asia/Saigon', 'America/Fortaleza', 'Europe/Bratislava', 'Etc/Universal', 'Europe/Istanbul', 'Pacific/Chuuk', 'Asia/Karachi', 'Egypt', 'Asia/Qyzylorda', 'America/Thunder_Bay', 'America/Punta_Arenas', 'America/Goose_Bay', 'America/Nome', 'Africa/Monrovia', 'Africa/Casablanca', 'Indian/Reunion', 'Pacific/Apia', 'GMT-0', 'Australia/North', 'Australia/West', 'America/Argentina/Mendoza', 'Africa/Niamey', 'Europe/Jersey', 'Portugal', 'Jamaica', 'America/Bahia', 'Etc/GMT-0', 'Etc/UTC', 'Atlantic/Canary', 'Africa/Lusaka', 'Pacific/Marquesas', 'Europe/Ulyanovsk', 'America/Kralendijk', 'Africa/Kigali', 'Pacific/Guam', 'Pacific/Guadalcanal', 'Asia/Muscat', 'Asia/Yekaterinburg', 'Europe/Berlin', 'HST', 'Pacific/Samoa', 'Asia/Aqtau', 'America/Jamaica', 'Africa/Lubumbashi', 'Asia/Krasnoyarsk', 'Africa/Mbabane', 'Pacific/Noumea', 'Europe/Nicosia', 'Australia/Brisbane', 'Atlantic/Cape_Verde', 'Europe/Vatican', 'Atlantic/Stanley', 'US/Mountain', 'America/Martinique', 'Asia/Bahrain', 'America/Indiana/Winamac', 'US/Alaska', 'Asia/Novosibirsk', 'Asia/Seoul', 'Pacific/Tarawa', 'Etc/Zulu', 'Europe/Lisbon', 'Africa/Dar_es_Salaam', 'Africa/Cairo', 'Asia/Tashkent', 'America/Inuvik', 'Asia/Dushanbe', 'Indian/Cocos', 'Australia/Queensland', 'America/Port-au-Prince', 'Asia/Dhaka', 'America/Fort_Wayne', 'America/Argentina/Tucuman', 'Asia/Yerevan', 'Pacific/Efate', 'Africa/Ouagadougou', 'America/Denver', 'Australia/Hobart', 'Brazil/West', 'Africa/Banjul', 'Africa/Mogadishu', 'Europe/Luxembourg', 'America/Sitka', 'America/Argentina/ComodRivadavia', 'Australia/NSW', 'Poland', 'Pacific/Funafuti', 'Canada/Pacific', 'Asia/Dili', 'America/Boa_Vista', 'America/Argentina/San_Luis', 'Asia/Tbilisi', 'Europe/Kaliningrad', 'America/Kentucky/Louisville', 'America/Cambridge_Bay', 'America/Argentina/Rio_Gallegos', 'Europe/Tirane', 'Asia/Manila', 'America/Knox_IN', 'Asia/Aden', 'Europe/Skopje', 'America/Boise', 'ROK', 'Pacific/Gambier', 'America/Antigua', 'Europe/Madrid', 'Europe/Bucharest', 'PST8PDT', 'Asia/Macao', 'Antarctica/Davis', 'America/Barbados', 'Europe/Sarajevo', 'UCT', 'America/Cuiaba', 'Etc/GMT+6', 'US/East-Indiana', 'Asia/Phnom_Penh', 'Etc/Greenwich', 'Europe/Stockholm', 'Africa/Maseru', 'Brazil/East', 'Indian/Mahe', 'America/Fort_Nelson', 'Australia/Currie', 'Asia/Harbin', 'Navajo', 'Europe/Kirov', 'Pacific/Truk', 'Europe/Simferopol', 'Asia/Yakutsk', 'Asia/Magadan', 'EST', 'Indian/Maldives', 'Asia/Urumqi', 'America/Rosario', 'Etc/GMT-2', 'America/Indiana/Indianapolis', 'Etc/UCT', 'Africa/Maputo', 'America/Dawson', 'EET', 'US/Hawaii', 'Africa/Porto-Novo', 'Etc/GMT+7', 'Singapore', 'America/Montserrat', 'Europe/Riga', 'Africa/Ndjamena', 'Asia/Kuala_Lumpur', 'Europe/Warsaw', 'America/Hermosillo', 'Asia/Singapore', 'Asia/Calcutta', 'Turkey', 'Etc/GMT-10', 'America/St_Johns', 'Etc/GMT+9', 'Asia/Thimbu', 'Etc/GMT', 'Africa/Accra', 'Europe/Oslo', 'Australia/Yancowinna', 'Europe/Minsk', 'America/Dawson_Creek', 'America/Guyana', 'America/Tijuana', 'America/Argentina/La_Rioja', 'Antarctica/Rothera', 'Europe/Belgrade', 'Pacific/Saipan', 'Asia/Kathmandu', 'Atlantic/Jan_Mayen', 'America/Nuuk', 'America/Managua', 'America/Winnipeg', 'America/Montevideo', 'Europe/Vilnius', 'Antarctica/South_Pole', 'America/New_York', 'Africa/Harare', 'Pacific/Easter', 'Antarctica/Mawson', 'Europe/Belfast', 'Africa/Abidjan', 'Brazil/DeNoronha', 'Australia/Lord_Howe', 'WET', 'Indian/Antananarivo', 'Pacific/Fakaofo', 'America/Thule', 'America/Costa_Rica', 'Africa/Bujumbura', 'Etc/GMT+4', 'Iceland', 'Australia/Broken_Hill', 'America/Godthab', 'America/Miquelon', 'Etc/GMT-13', 'Etc/GMT+1', 'Africa/Bangui', 'Pacific/Majuro', 'Europe/Astrakhan', 'Australia/South', 'Etc/GMT-5', 'Europe/Gibraltar', 'Pacific/Pago_Pago', 'America/Chihuahua', 'America/Detroit', 'Asia/Irkutsk', 'America/Resolute', 'America/La_Paz', 'Europe/Dublin', 'US/Indiana-Starke', 'America/Nassau', 'Australia/ACT', 'America/Catamarca', 'Asia/Barnaul', 'Mexico/BajaNorte', 'America/Tortola', 'America/Coral_Harbour', 'Atlantic/Azores', 'Asia/Nicosia', 'Mexico/General', 'Etc/GMT+12', 'Asia/Omsk', 'Chile/EasterIsland', 'Africa/Timbuktu', 'Europe/Kyiv', 'Asia/Rangoon', 'America/North_Dakota/Beulah', 'Europe/Vaduz', 'Africa/Djibouti', 'America/Merida', 'Africa/Douala', 'Pacific/Johnston', 'Asia/Samarkand', 'Africa/Ceuta', 'Etc/GMT-11', 'America/Mendoza', 'Asia/Jakarta', 'Asia/Beirut', 'Europe/Mariehamn', 'America/Santarem', 'America/Creston', 'Asia/Kashgar', 'America/Maceio', 'America/Eirunepe', 'Pacific/Niue', 'Greenwich', 'America/Belize', 'Australia/Perth', 'Pacific/Yap', 'Asia/Anadyr', 'Europe/Podgorica', 'America/Guayaquil', 'Asia/Amman', 'Antarctica/Syowa', 'America/Indiana/Marengo', 'Antarctica/Vostok', 'Europe/Moscow', 'America/Cordoba', 'MST', 'America/Adak', 'Brazil/Acre', 'Asia/Kabul', 'Asia/Brunei', 'Pacific/Pitcairn', 'MST7MDT', 'America/Blanc-Sablon', 'Asia/Oral', 'Europe/Chisinau', 'Pacific/Kosrae', 'Pacific/Nauru', 'Asia/Novokuznetsk', 'Australia/Lindeman', 'Europe/Guernsey', 'GMT', 'Atlantic/Madeira', 'Africa/Malabo', 'Africa/Bamako', 'America/Porto_Acre', 'Asia/Hovd', 'America/Jujuy', 'Pacific/Palau', 'America/Edmonton', 'America/Argentina/Ushuaia', 'America/Rio_Branco', 'America/Bahia_Banderas', 'Asia/Almaty', 'Kwajalein', 'America/Rankin_Inlet', 'America/Porto_Velho', 'Africa/Johannesburg', 'Asia/Chita', 'America/Noronha', 'America/Anchorage', 'America/Rainy_River', 'Etc/GMT-6', 'America/Santo_Domingo', 'Asia/Qostanay', 'America/Recife', 'America/Argentina/San_Juan', 'America/Paramaribo', 'Pacific/Port_Moresby', 'Australia/Tasmania', 'Europe/Helsinki', 'Africa/Windhoek', 'America/Argentina/Cordoba', 'America/Marigot', 'Asia/Kuwait', 'Africa/Luanda', 'Canada/Central', 'Pacific/Pohnpei', 'Europe/Andorra', 'Mexico/BajaSur', 'Pacific/Kanton', 'GB-Eire', 'Pacific/Galapagos', 'America/Los_Angeles', 'America/North_Dakota/New_Salem', 'Etc/GMT-4', 'Europe/San_Marino', 'America/Buenos_Aires', 'Africa/Conakry', 'Asia/Tomsk', 'Africa/Nouakchott', 'Europe/Copenhagen', 'America/Yakutat', 'Australia/Canberra', 'America/Indiana/Knox', 'America/Metlakatla', 'Atlantic/South_Georgia', 'America/Indiana/Vincennes', 'Africa/Nairobi', 'Asia/Chongqing', 'W-SU', 'America/Araguaina', 'Asia/Ashkhabad', 'Africa/Libreville', 'America/Virgin', 'America/Whitehorse', 'Asia/Ulan_Bator', 'America/St_Lucia', 'America/Puerto_Rico', 'Canada/Mountain', 'Zulu', 'America/Sao_Paulo', 'US/Aleutian', 'Asia/Sakhalin', 'America/Vancouver', 'Iran', 'America/El_Salvador', 'Asia/Shanghai', 'Canada/Yukon', 'Pacific/Ponape', 'America/Iqaluit', 'GMT+0', 'America/St_Vincent', 'Cuba', 'Africa/Lagos', 'Asia/Tel_Aviv', 'America/Curacao', 'America/St_Thomas', 'Atlantic/Faroe', 'America/Louisville', 'America/Ensenada', 'America/Mazatlan', 'America/Pangnirtung', 'Pacific/Tongatapu', 'Asia/Pontianak', 'Indian/Comoro', 'America/North_Dakota/Center', 'Asia/Ulaanbaatar', 'America/Caracas', 'Etc/GMT-1', 'America/Panama', 'Canada/Eastern', 'America/Bogota', 'America/Montreal', 'Europe/Vienna', 'America/Lower_Princes', 'America/Atikokan', 'Atlantic/Bermuda', 'Indian/Christmas', 'Canada/Saskatchewan', 'Arctic/Longyearbyen', 'Etc/GMT+5', 'Africa/Bissau', 'Asia/Atyrau', 'Asia/Ho_Chi_Minh', 'America/Matamoros', 'Pacific/Kiritimati', 'Europe/Saratov', 'America/Dominica', 'Indian/Chagos', 'Europe/Busingen', 'Australia/Adelaide', 'MET', 'Asia/Istanbul', 'America/Kentucky/Monticello', 'Asia/Makassar', 'Europe/Budapest', 'US/Eastern', 'Antarctica/McMurdo', 'Asia/Pyongyang', 'Hongkong', 'Europe/Isle_of_Man', 'America/Guatemala', 'America/Atka', 'CET', 'America/Argentina/Jujuy', 'Australia/LHI', 'America/Juneau', 'Asia/Riyadh', 'GB', 'Asia/Kuching', 'Etc/GMT-9', 'America/Phoenix', 'America/Monterrey', 'America/Port_of_Spain', 'CST6CDT', 'America/Cancun', 'America/Argentina/Catamarca', 'Asia/Thimphu', 'Etc/GMT+8', 'America/Regina', 'Asia/Taipei', 'America/Lima', 'Europe/Ljubljana', 'Europe/Prague', 'Asia/Colombo', 'GMT0', 'Antarctica/Palmer', 'Pacific/Bougainville', 'Etc/GMT+11', 'America/Belem', 'Asia/Ujung_Pandang', 'America/Aruba', 'Africa/Khartoum', 'Asia/Choibalsan', 'Europe/Tiraspol', 'Chile/Continental', 'Etc/GMT+3', 'Europe/Amsterdam', 'America/Grand_Turk', 'America/St_Kitts', 'Canada/Atlantic', 'Asia/Ashgabat', 'America/Argentina/Salta', 'America/Chicago', 'America/Indiana/Petersburg', 'Australia/Sydney', 'Africa/Addis_Ababa', 'Pacific/Tahiti', 'America/St_Barthelemy', 'Japan', 'Pacific/Fiji', 'Australia/Darwin', 'Asia/Kamchatka', 'Africa/Tripoli', 'US/Central', 'Etc/GMT+2', 'Etc/GMT+0', 'Atlantic/Faeroe', 'America/Indianapolis', 'Asia/Hong_Kong', 'Asia/Gaza', 'Europe/Zagreb', 'EST5EDT', 'Etc/GMT-7', 'Africa/Sao_Tome', 'Africa/Freetown', 'US/Samoa', 'Asia/Baghdad'}\n"
     ]
    }
   ],
   "source": [
    "world_tz = zoneinfo.available_timezones()\n",
    "print(world_tz)"
   ]
  },
  {
   "cell_type": "markdown",
   "metadata": {},
   "source": [
    "### GraphLib"
   ]
  },
  {
   "cell_type": "code",
   "execution_count": 20,
   "metadata": {},
   "outputs": [],
   "source": [
    "from graphlib import TopologicalSorter"
   ]
  },
  {
   "cell_type": "code",
   "execution_count": 21,
   "metadata": {},
   "outputs": [
    {
     "data": {
      "text/plain": [
       "('A', 'C', 'B', 'D')"
      ]
     },
     "execution_count": 21,
     "metadata": {},
     "output_type": "execute_result"
    }
   ],
   "source": [
    "graph = {\"D\": {\"B\", \"C\"}, \"C\": {\"A\"}, \"B\": {\"A\"}}\n",
    "ts = TopologicalSorter(graph)\n",
    "tuple(ts.static_order())"
   ]
  },
  {
   "cell_type": "code",
   "execution_count": null,
   "metadata": {},
   "outputs": [],
   "source": []
  }
 ],
 "metadata": {
  "kernelspec": {
   "display_name": "Python 3 (ipykernel)",
   "language": "python",
   "name": "python3"
  },
  "language_info": {
   "codemirror_mode": {
    "name": "ipython",
    "version": 3
   },
   "file_extension": ".py",
   "mimetype": "text/x-python",
   "name": "python",
   "nbconvert_exporter": "python",
   "pygments_lexer": "ipython3",
   "version": "3.10.4"
  }
 },
 "nbformat": 4,
 "nbformat_minor": 4
}
