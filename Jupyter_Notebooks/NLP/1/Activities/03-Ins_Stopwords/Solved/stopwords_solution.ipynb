{
 "cells": [
  {
   "cell_type": "code",
   "execution_count": 1,
   "metadata": {},
   "outputs": [
    {
     "name": "stderr",
     "output_type": "stream",
     "text": [
      "[nltk_data] Downloading package punkt to /Users/tberton/nltk_data...\n",
      "[nltk_data]   Package punkt is already up-to-date!\n",
      "[nltk_data] Downloading package gutenberg to\n",
      "[nltk_data]     /Users/tberton/nltk_data...\n",
      "[nltk_data]   Package gutenberg is already up-to-date!\n"
     ]
    },
    {
     "data": {
      "text/plain": [
       "True"
      ]
     },
     "execution_count": 1,
     "metadata": {},
     "output_type": "execute_result"
    }
   ],
   "source": [
    "# Import the Gutenberg and stopwords databases from the nltk corpus \n",
    "from nltk.corpus import gutenberg, stopwords\n",
    "# Import tokenizers\n",
    "from nltk.tokenize import word_tokenize, sent_tokenize\n",
    "\n",
    "# Import nltk and download  the sentence tokenizer.\n",
    "import nltk\n",
    "nltk.download('punkt')\n",
    "nltk.download('gutenberg')"
   ]
  },
  {
   "cell_type": "code",
   "execution_count": 2,
   "metadata": {},
   "outputs": [
    {
     "name": "stdout",
     "output_type": "stream",
     "text": [
      "['austen-emma.txt', 'austen-persuasion.txt', 'austen-sense.txt', 'bible-kjv.txt', 'blake-poems.txt', 'bryant-stories.txt', 'burgess-busterbrown.txt', 'carroll-alice.txt', 'chesterton-ball.txt', 'chesterton-brown.txt', 'chesterton-thursday.txt', 'edgeworth-parents.txt', 'melville-moby_dick.txt', 'milton-paradise.txt', 'shakespeare-caesar.txt', 'shakespeare-hamlet.txt', 'shakespeare-macbeth.txt', 'whitman-leaves.txt']\n"
     ]
    }
   ],
   "source": [
    "# Get all the fileids \n",
    "print(gutenberg.fileids())"
   ]
  },
  {
   "cell_type": "code",
   "execution_count": 3,
   "metadata": {},
   "outputs": [],
   "source": [
    "# Get Jane Austen's book, Persuasion.\n",
    "persuasion_book = gutenberg.raw(fileids=('austen-persuasion.txt'))\n",
    "print(persuasion_book)"
   ]
  },
  {
   "cell_type": "code",
   "execution_count": 4,
   "metadata": {},
   "outputs": [
    {
     "name": "stdout",
     "output_type": "stream",
     "text": [
      "He had been remarkably handsome\n",
      "in his youth; and, at fifty-four, was still a very fine man.\n"
     ]
    }
   ],
   "source": [
    "# Use the sentence tokenizer on a random sentence in Persuasion.\n",
    "one_sentence = sent_tokenize(persuasion_book)[8]\n",
    "print(one_sentence)"
   ]
  },
  {
   "cell_type": "code",
   "execution_count": 5,
   "metadata": {},
   "outputs": [
    {
     "name": "stdout",
     "output_type": "stream",
     "text": [
      "['He', 'had', 'been', 'remarkably', 'handsome', 'in', 'his', 'youth', ';', 'and', ',', 'at', 'fifty-four', ',', 'was', 'still', 'a', 'very', 'fine', 'man', '.']\n"
     ]
    }
   ],
   "source": [
    "# Get all the words in the sentence.\n",
    "all_words = word_tokenize(one_sentence)\n",
    "print(all_words)"
   ]
  },
  {
   "cell_type": "markdown",
   "metadata": {},
   "source": [
    "## NLTK Stopwords"
   ]
  },
  {
   "cell_type": "code",
   "execution_count": 6,
   "metadata": {},
   "outputs": [
    {
     "name": "stdout",
     "output_type": "stream",
     "text": [
      "{'as', 'from', 'below', \"shan't\", 'wouldn', 'i', 'now', \"couldn't\", 'while', 'over', 'couldn', 'you', 'if', 'his', 'will', \"that'll\", 'hers', 'wasn', 'o', 'how', 'he', 'the', 'll', \"needn't\", 'about', 'so', 'yourself', 'these', 'doing', 'isn', 'at', 'won', 'for', 'were', 'they', 'few', 'with', 'been', 'same', 'what', \"you'll\", 't', 'off', 'an', 'again', 'd', 'mustn', 'once', 'needn', 'both', 'such', 'very', 'our', \"weren't\", 'theirs', 'have', 'ourselves', 'ma', 'and', 'between', 'had', \"you'd\", 'out', 'a', 'be', 'own', 'because', \"should've\", 'm', 'any', 'did', 're', 'has', 'above', 'most', \"hadn't\", 'hasn', 'herself', \"it's\", \"mightn't\", 'him', 'mightn', 'those', 'their', 'than', 'don', \"won't\", \"wouldn't\", 'all', \"she's\", 'does', 'to', 'should', \"aren't\", \"you're\", 'am', 'its', 'which', \"shouldn't\", 'me', 'who', 's', 'shouldn', 'myself', 'ours', 'is', 'up', 'themselves', 'other', 'too', \"wasn't\", \"don't\", 'haven', 'in', 'doesn', 'y', 'into', 'when', 'by', 'was', \"mustn't\", 'shan', 'whom', \"isn't\", 'your', 'can', \"hasn't\", 'it', 'them', 'hadn', 'that', 'why', 'nor', 'before', 'each', 'didn', 'having', \"didn't\", 'some', 'or', \"haven't\", 'only', 'are', \"doesn't\", 'her', 'where', \"you've\", 'against', 'under', 'aren', 'more', 'being', 'do', 'but', 'yours', 'there', 'this', 'down', 'just', 'ain', 'after', 'of', 'she', 'during', 've', 'itself', 'not', 'we', 'until', 'here', 'no', 'yourselves', 'weren', 'my', 'further', 'then', 'on', 'through', 'himself'}\n"
     ]
    }
   ],
   "source": [
    "# Get all the nltk stopwords\n",
    "sw = set(stopwords.words('english'))\n",
    "print(sw)"
   ]
  },
  {
   "cell_type": "code",
   "execution_count": 7,
   "metadata": {},
   "outputs": [
    {
     "name": "stdout",
     "output_type": "stream",
     "text": [
      "['remarkably', 'handsome', 'youth', ';', ',', 'fifty-four', ',', 'still', 'fine', 'man', '.']\n"
     ]
    }
   ],
   "source": [
    "# Filter out all the stopwords from the words in the sentence.\n",
    "first_result = [word.lower() for word in all_words if word.lower() not in sw]\n",
    "print(first_result)"
   ]
  },
  {
   "cell_type": "code",
   "execution_count": 8,
   "metadata": {},
   "outputs": [
    {
     "name": "stdout",
     "output_type": "stream",
     "text": [
      "['remarkably', 'handsome', 'youth', ';', ',', ',', 'fine', 'man', '.']\n"
     ]
    }
   ],
   "source": [
    "# We can define our own list of stopwords to add to the default nltk stopwords\n",
    "sw_addon = {'still', 'fifty-four'}\n",
    "second_result = [word.lower() for word in all_words if word.lower() not in sw.union(sw_addon)]\n",
    "print(second_result)"
   ]
  },
  {
   "cell_type": "markdown",
   "metadata": {},
   "source": [
    "## Getting Rid of Non-Alpha Characters using Regular Expressions"
   ]
  },
  {
   "cell_type": "code",
   "execution_count": 9,
   "metadata": {},
   "outputs": [],
   "source": [
    "# Import regular expressions library\n",
    "import re"
   ]
  },
  {
   "cell_type": "code",
   "execution_count": 10,
   "metadata": {},
   "outputs": [
    {
     "name": "stdout",
     "output_type": "stream",
     "text": [
      "He had been remarkably handsome in his youth  and  at fifty four  was still a very fine man \n"
     ]
    }
   ],
   "source": [
    "# Substitute everything that is not a letter with an empty string\n",
    "regex = re.compile(\"[^a-zA-Z ]\")\n",
    "re_clean = regex.sub(' ', one_sentence)\n",
    "print(re_clean)"
   ]
  },
  {
   "cell_type": "code",
   "execution_count": 11,
   "metadata": {},
   "outputs": [
    {
     "name": "stdout",
     "output_type": "stream",
     "text": [
      "['\\n', ';', ',', '-', ',', '.']\n"
     ]
    }
   ],
   "source": [
    "# Retrieve everything that is not a letter with an empty string\n",
    "re_clean_2 = re.findall(\"[^a-zA-Z ]\", one_sentence)\n",
    "print(re_clean_2)"
   ]
  },
  {
   "cell_type": "code",
   "execution_count": 12,
   "metadata": {},
   "outputs": [
    {
     "name": "stdout",
     "output_type": "stream",
     "text": [
      "['remarkably', 'handsome', 'youth', 'fifty', 'four', 'fine', 'man']\n"
     ]
    }
   ],
   "source": [
    "# Remove all the stopwords from our cleaned regular expression.\n",
    "re_words = word_tokenize(re_clean)\n",
    "re_result = [word.lower() for word in re_words if word.lower() not in sw.union(sw_addon)]\n",
    "print(re_result)"
   ]
  },
  {
   "cell_type": "code",
   "execution_count": null,
   "metadata": {},
   "outputs": [],
   "source": []
  }
 ],
 "metadata": {
  "kernelspec": {
   "display_name": "Python 3 (ipykernel)",
   "language": "python",
   "name": "python3"
  },
  "language_info": {
   "codemirror_mode": {
    "name": "ipython",
    "version": 3
   },
   "file_extension": ".py",
   "mimetype": "text/x-python",
   "name": "python",
   "nbconvert_exporter": "python",
   "pygments_lexer": "ipython3",
   "version": "3.10.13"
  }
 },
 "nbformat": 4,
 "nbformat_minor": 2
}
